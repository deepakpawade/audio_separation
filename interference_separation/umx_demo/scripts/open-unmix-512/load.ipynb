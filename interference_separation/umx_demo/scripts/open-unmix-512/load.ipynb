{
 "cells": [
  {
   "cell_type": "code",
   "execution_count": 1,
   "metadata": {},
   "outputs": [],
   "source": [
    "import torch\n",
    "checkpoint = torch.load('podcasts.pth')\n"
   ]
  },
  {
   "cell_type": "code",
   "execution_count": 2,
   "metadata": {},
   "outputs": [
    {
     "data": {
      "text/plain": [
       "collections.OrderedDict"
      ]
     },
     "execution_count": 2,
     "metadata": {},
     "output_type": "execute_result"
    }
   ],
   "source": [
    "type(checkpoint)"
   ]
  },
  {
   "cell_type": "code",
   "execution_count": 5,
   "metadata": {},
   "outputs": [
    {
     "data": {
      "text/plain": [
       "['input_mean',\n",
       " 'input_scale',\n",
       " 'output_scale',\n",
       " 'output_mean',\n",
       " 'fc1.weight',\n",
       " 'bn1.weight',\n",
       " 'bn1.bias',\n",
       " 'bn1.running_mean',\n",
       " 'bn1.running_var',\n",
       " 'bn1.num_batches_tracked',\n",
       " 'lstm.weight_ih_l0',\n",
       " 'lstm.weight_hh_l0',\n",
       " 'lstm.bias_ih_l0',\n",
       " 'lstm.bias_hh_l0',\n",
       " 'lstm.weight_ih_l0_reverse',\n",
       " 'lstm.weight_hh_l0_reverse',\n",
       " 'lstm.bias_ih_l0_reverse',\n",
       " 'lstm.bias_hh_l0_reverse',\n",
       " 'lstm.weight_ih_l1',\n",
       " 'lstm.weight_hh_l1',\n",
       " 'lstm.bias_ih_l1',\n",
       " 'lstm.bias_hh_l1',\n",
       " 'lstm.weight_ih_l1_reverse',\n",
       " 'lstm.weight_hh_l1_reverse',\n",
       " 'lstm.bias_ih_l1_reverse',\n",
       " 'lstm.bias_hh_l1_reverse',\n",
       " 'lstm.weight_ih_l2',\n",
       " 'lstm.weight_hh_l2',\n",
       " 'lstm.bias_ih_l2',\n",
       " 'lstm.bias_hh_l2',\n",
       " 'lstm.weight_ih_l2_reverse',\n",
       " 'lstm.weight_hh_l2_reverse',\n",
       " 'lstm.bias_ih_l2_reverse',\n",
       " 'lstm.bias_hh_l2_reverse',\n",
       " 'fc2.weight',\n",
       " 'bn2.weight',\n",
       " 'bn2.bias',\n",
       " 'bn2.running_mean',\n",
       " 'bn2.running_var',\n",
       " 'bn2.num_batches_tracked',\n",
       " 'fc3.weight',\n",
       " 'bn3.weight',\n",
       " 'bn3.bias',\n",
       " 'bn3.running_mean',\n",
       " 'bn3.running_var',\n",
       " 'bn3.num_batches_tracked']"
      ]
     },
     "execution_count": 5,
     "metadata": {},
     "output_type": "execute_result"
    }
   ],
   "source": [
    "list(checkpoint.keys())\n",
    "    "
   ]
  },
  {
   "cell_type": "code",
   "execution_count": null,
   "metadata": {},
   "outputs": [],
   "source": []
  }
 ],
 "metadata": {
  "interpreter": {
   "hash": "60c76684d61d2922394e92edb02c134fb0e6b87edda5739926d2d1807e3afdb8"
  },
  "kernelspec": {
   "display_name": "Python 3.9.7 64-bit",
   "language": "python",
   "name": "python3"
  },
  "language_info": {
   "codemirror_mode": {
    "name": "ipython",
    "version": 3
   },
   "file_extension": ".py",
   "mimetype": "text/x-python",
   "name": "python",
   "nbconvert_exporter": "python",
   "pygments_lexer": "ipython3",
   "version": "3.9.7"
  },
  "orig_nbformat": 4
 },
 "nbformat": 4,
 "nbformat_minor": 2
}
