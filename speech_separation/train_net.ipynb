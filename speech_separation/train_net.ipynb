{
 "cells": [
  {
   "cell_type": "code",
   "execution_count": 1,
   "metadata": {},
   "outputs": [
    {
     "name": "stdout",
     "output_type": "stream",
     "text": [
      "2770 samples in dataset\n",
      "total_samples: 2770\n",
      "total_points: 277000\n"
     ]
    }
   ],
   "source": [
    "\n",
    "import tensorflow as tf\n",
    "import numpy as np\n",
    "import time\n",
    "import matplotlib.pyplot as plt\n",
    "import librosa\n",
    "from datagenerator2 import DataGenerator2\n"
   ]
  },
  {
   "cell_type": "code",
   "execution_count": 2,
   "metadata": {},
   "outputs": [],
   "source": [
    "pkl_list = ['D:/soundseperation/TIMIT_WAV/Data/train' + str(i) + '.pkl' for i in range(1, 2)]"
   ]
  },
  {
   "cell_type": "code",
   "execution_count": 4,
   "metadata": {},
   "outputs": [
    {
     "name": "stdout",
     "output_type": "stream",
     "text": [
      "2770 samples in dataset\n",
      "Training set: Data samples: 2770, Total number of points: 277000\n"
     ]
    }
   ],
   "source": [
    "data_generator = DataGenerator2(pkl_list)\n",
    "print(\"Training set: Data samples: %d, Total number of points: %d\"%(data_generator.total_samples, data_generator.total_number_of_datapoints()))\n",
    "\n",
    "# remove variables\n",
    "del pkl_list"
   ]
  },
  {
   "cell_type": "code",
   "execution_count": 5,
   "metadata": {},
   "outputs": [
    {
     "name": "stdout",
     "output_type": "stream",
     "text": [
      "total_batches size: 43\n",
      "n_features size: 129\n",
      "n_classes size: 129\n",
      "(6400, 129)\n",
      "(6400, 129)\n"
     ]
    }
   ],
   "source": [
    "#%% Get data\n",
    "\n",
    "# Get batch size\n",
    "batch_size = 64;\n",
    "\n",
    "# Get total number of batches\n",
    "total_batches = int(data_generator.total_batches(batch_size))\n",
    "\n",
    "# Get sample data\n",
    "data = data_generator.gen_batch(batch_size);\n",
    "# Reshape training data\n",
    "# concatenate training samples together to get 101900 x 129 array\n",
    "tr_features = np.concatenate([item['SampleStd'] for item in data], axis=0)\n",
    "# concatenate labels together to get 101900 x 129 array\n",
    "Y_labels = (np.concatenate([np.asarray(item['IBM'])[:,:,0] for item in data], axis=0)).astype(int)\n",
    "\n",
    "# Same as neff\n",
    "n_features = np.shape(tr_features)[1]\n",
    "# Same as neff\n",
    "n_classes = np.shape(Y_labels)[1]\n",
    "\n",
    "print(\"total_batches size: %d\"%total_batches)\n",
    "print(\"n_features size: %d\"%n_features)\n",
    "print(\"n_classes size: %d\"%n_classes)\n",
    "print(tr_features.shape)\n",
    "print(str(Y_labels.shape))"
   ]
  },
  {
   "cell_type": "code",
   "execution_count": 6,
   "metadata": {},
   "outputs": [],
   "source": [
    "del data, tr_features, Y_labels"
   ]
  },
  {
   "cell_type": "code",
   "execution_count": 7,
   "metadata": {},
   "outputs": [],
   "source": [
    "#%% Reset default graph\n",
    "\n",
    "# tf.reset_default_graph()\n",
    "tf.compat.v1.reset_default_graph()\n",
    "\n",
    "#%% Set training parameters\n",
    "\n",
    "training_epochs = 60\n",
    "n_neurons_in_h1 = 300\n",
    "n_neurons_in_h2 = 300\n",
    "learning_rate = 0.01\n",
    "\n",
    "#%% Placeholders for inputs and outputs\n",
    "# tf.compat.v1.reset_default_graph()\n",
    "tf.compat.v1.disable_eager_execution()\n",
    "X = tf.compat.v1.placeholder(tf.float32, [None, n_features], name=\"features\")\n",
    "Y = tf.compat.v1.placeholder(tf.float32, [None, n_classes], name=\"labels\")\n",
    "\n",
    "#%% Layer 1\n",
    "\n",
    "W1 = tf.Variable(tf.compat.v1.truncated_normal([n_features, n_neurons_in_h1], mean=0, stddev=1/np.sqrt(n_features)), name=\"weights1\")\n",
    "b1 = tf.Variable(tf.compat.v1.truncated_normal([n_neurons_in_h1], mean=0, stddev=1/np.sqrt(n_features)), name=\"biases1\")\n",
    "# Activation function\n",
    "y1 = tf.nn.tanh((tf.matmul(X, W1)+b1), name=\"activationlayer1\")\n",
    "\n",
    "#%% Layer 2\n",
    "\n",
    "W2 = tf.Variable(tf.compat.v1.random_normal([n_neurons_in_h1, n_neurons_in_h2], mean=0, stddev=1/np.sqrt(n_features)), name=\"weights2\")\n",
    "b2 = tf.Variable(tf.compat.v1.random_normal([n_neurons_in_h2],mean=0, stddev=1/np.sqrt(n_features)), name=\"biases2\")\n",
    "#Activation function\n",
    "y2 = tf.nn.tanh((tf.matmul(y1,W2)+b2), name=\"activationlayer2\")\n",
    "\n",
    "#%% ouput layer\n",
    "\n",
    "W0 = tf.Variable(tf.compat.v1.random_normal([n_neurons_in_h2, n_classes], mean=0, stddev=1/np.sqrt(n_features)), name=\"weightsOut\")\n",
    "b0 = tf.Variable(tf.compat.v1.random_normal([n_classes], mean=0, stddev=1/np.sqrt(n_features)), name=\"biasesOut\")\n",
    "#Activation function (tanh)\n",
    "a = tf.nn.sigmoid((tf.matmul(y2, W0)+b0), name=\"activationOutputLayer\")"
   ]
  },
  {
   "cell_type": "code",
   "execution_count": 8,
   "metadata": {},
   "outputs": [],
   "source": [
    "#MSE\n",
    "loss = tf.losses.mean_squared_error(Y, a)\n",
    "\n",
    "#Optimizer\n",
    "train_step = tf.compat.v1.train.GradientDescentOptimizer(learning_rate).minimize(loss)\n",
    "\n",
    "#%% Accuracy calculation\n",
    "\n",
    "#Get prediction from output\n",
    "correct_prediction = tf.equal(tf.round(a), Y)\n",
    "#Accuracy determination\n",
    "accuracy = tf.reduce_mean(tf.cast(correct_prediction, tf.float32), name=\"Accuracy\")"
   ]
  },
  {
   "cell_type": "code",
   "execution_count": 9,
   "metadata": {},
   "outputs": [
    {
     "name": "stdout",
     "output_type": "stream",
     "text": [
      "epoch 0\n",
      "epoch 1\n",
      "epoch 2\n",
      "epoch 3\n",
      "epoch 4\n",
      "epoch 5\n",
      "epoch 6\n",
      "epoch 7\n",
      "epoch 8\n",
      "epoch 9\n",
      "epoch 10\n",
      "epoch 11\n",
      "epoch 12\n",
      "epoch 13\n",
      "epoch 14\n",
      "epoch 15\n",
      "epoch 16\n",
      "epoch 17\n",
      "epoch 18\n",
      "epoch 19\n",
      "epoch 20\n",
      "epoch 21\n",
      "epoch 22\n",
      "epoch 23\n",
      "epoch 24\n",
      "epoch 25\n",
      "epoch 26\n",
      "epoch 27\n",
      "epoch 28\n",
      "epoch 29\n",
      "epoch 30\n",
      "epoch 31\n",
      "epoch 32\n",
      "epoch 33\n",
      "epoch 34\n",
      "epoch 35\n",
      "epoch 36\n",
      "epoch 37\n",
      "epoch 38\n",
      "epoch 39\n",
      "epoch 40\n",
      "epoch 41\n",
      "epoch 42\n",
      "epoch 43\n",
      "epoch 44\n",
      "epoch 45\n",
      "epoch 46\n",
      "epoch 47\n",
      "epoch 48\n",
      "epoch 49\n",
      "epoch 50\n",
      "epoch 51\n",
      "epoch 52\n",
      "epoch 53\n",
      "epoch 54\n",
      "epoch 55\n",
      "epoch 56\n",
      "epoch 57\n",
      "epoch 58\n",
      "epoch 59\n",
      "Model trained. Time elapsed: 170.724614\n"
     ]
    }
   ],
   "source": [
    "#%% Run model\n",
    "\n",
    "#folder for writer location\n",
    "#Make sure there is a folder called WriterOutput held in the current directory\n",
    "foldername = \"WriterOutput\"\n",
    "\n",
    "#Location for model checkpoint\n",
    "#Save to current directory\n",
    "model_checkpoint = \"./model.chkpt\"\n",
    "\n",
    "# Create a saver so we can save and load the model as we train it\n",
    "tf_saver = tf.compat.v1.train.Saver()\n",
    "\n",
    "\n",
    "initial = tf.compat.v1.global_variables_initializer()\n",
    "\n",
    "#create session\n",
    "with tf.compat.v1.Session() as sess:\n",
    "    sess.run(initial)\n",
    "    writer = tf.compat.v1.summary.FileWriter(foldername)\n",
    "    writer.add_graph(sess.graph)\n",
    "    merged_summary = tf.compat.v1.summary.merge_all()\n",
    "    accuracy_results = []\n",
    "    loss_results = []\n",
    "    \n",
    "    # Start timer\n",
    "    start = time.time()\n",
    "    \n",
    "    for epoch in range(training_epochs):\n",
    "        # create array to hold intermediate results for accuracy and loss\n",
    "        intermediate_accuracy = []\n",
    "        intermediate_loss = []\n",
    "         \n",
    "        # loop through each batch in the dataset\n",
    "        for i in range(0, total_batches):\n",
    "            \n",
    "            # Get data\n",
    "            data = data_generator.gen_batch(batch_size);\n",
    "            # Reshape training data\n",
    "            # concatenate training samples together to get 101900 x 129 array\n",
    "            tr_features = np.concatenate([item['SampleStd'] for item in data], axis=0)\n",
    "            # concatenate labels together to get 101900 x 129 array\n",
    "            Y_labels = (np.concatenate([np.asarray(item['IBM'])[:,:,0] for item in data], axis=0)).astype(int)\n",
    "            \n",
    "            _, loss1, accuracy1 = sess.run([train_step, loss, accuracy], feed_dict={X: tr_features, Y:Y_labels})\n",
    "            #Add loss and accuracy to intermediate array\n",
    "            intermediate_loss.append(loss1)\n",
    "            intermediate_accuracy.append(accuracy1)\n",
    "            \n",
    "        # Append mean of loss and accuracy over batch to accuracy_loss results\n",
    "        accuracy_results.append(np.mean(intermediate_accuracy))\n",
    "        loss_results.append(np.mean(intermediate_loss))\n",
    "\n",
    "        #writer.add_summary(summary, epoch)\n",
    "        print(\"epoch\", epoch)\n",
    "    save_path = tf_saver.save(sess, model_checkpoint)\n",
    "    \n",
    "    # finish timer \n",
    "    end = time.time()\n",
    "    \n",
    "print(\"Model trained. Time elapsed: %f\"%(end - start))"
   ]
  },
  {
   "cell_type": "code",
   "execution_count": 19,
   "metadata": {},
   "outputs": [
    {
     "name": "stdout",
     "output_type": "stream",
     "text": [
      "{'__rpow__', '__gt__', '__div__', '__rmatmul__', '__rand__', '__truediv__', '__eq__', '__rxor__', '__ne__', '__rmul__', '__le__', '__neg__', '__and__', '__invert__', '__rtruediv__', '__add__', '__getitem__', '__pow__', '__mul__', '__rdiv__', '__sub__', '__xor__', '__ror__', '__or__', '__rfloordiv__', '__radd__', '__abs__', '__mod__', '__rsub__', '__lt__', '__rmod__', '__ge__', '__matmul__', '__floordiv__'}\n"
     ]
    }
   ],
   "source": [
    "print(a.OVERLOADABLE_OPERATORS)"
   ]
  },
  {
   "cell_type": "code",
   "execution_count": 20,
   "metadata": {},
   "outputs": [
    {
     "name": "stdout",
     "output_type": "stream",
     "text": [
      "./model.chkpt\n"
     ]
    }
   ],
   "source": [
    "model_checkpoint = \"./model.chkpt\"\n",
    "print(model_checkpoint)"
   ]
  },
  {
   "cell_type": "code",
   "execution_count": null,
   "metadata": {},
   "outputs": [],
   "source": [
    "del i, loss1, accuracy1, intermediate_accuracy, intermediate_loss, epoch\n",
    "del foldername, model_checkpoint\n",
    "del save_path, learning_rate, n_classes, n_features, n_neurons_in_h1, n_neurons_in_h2\n",
    "del Y_labels, data, tr_features\n",
    "del total_batches, merged_summary, batch_size\n",
    "del start, end"
   ]
  },
  {
   "cell_type": "code",
   "execution_count": 21,
   "metadata": {},
   "outputs": [
    {
     "data": {
      "image/png": "[encoded data removed]",
      "text/plain": [
       "<Figure size 432x288 with 2 Axes>"
      ]
     },
     "metadata": {
      "needs_background": "light"
     },
     "output_type": "display_data"
    }
   ],
   "source": [
    "#%% Plot training accuracy and loss\n",
    "\n",
    "fig = plt.figure() \n",
    "\n",
    "#sub plot 1 - Accuracy\n",
    "ax1 = plt.subplot(211)\n",
    "plt.plot(range(training_epochs), accuracy_results, linewidth=2.0)\n",
    "plt.xlabel('epoch')\n",
    "plt.ylabel('training accuracy')\n",
    "plt.title('accuracy')\n",
    "\n",
    "#sub plot 2 - Loss\n",
    "ax2 = plt.subplot(212, sharex=ax1)\n",
    "plt.plot(range(training_epochs), loss_results, linewidth=2.0)\n",
    "plt.xlabel('epoch')\n",
    "plt.ylabel('training loss')\n",
    "plt.title('loss')\n",
    "\n",
    "plt.tight_layout()\n",
    "fig.savefig(\"feedforwardaccuracy.png\", bbox_inches=\"tight\")\n",
    "plt.show()\n",
    "plt.close(fig)"
   ]
  },
  {
   "cell_type": "code",
   "execution_count": 38,
   "metadata": {},
   "outputs": [],
   "source": [
    "wavfile1 = \"D:/soundseperation/TIMIT_WAV/Train/DR1/FCJF0/SI1027.WAV\" \n",
    "wavfile2 = \"D:/soundseperation/TIMIT_WAV/Train/DR1/MDPK0/SI552.WAV\" \n",
    "\n",
    "sampling_rate = 8000\n",
    "frame_size = 256\n",
    "maxFFTSize = 129\n",
    "\n",
    "vad_threshold= 0.001\n"
   ]
  },
  {
   "cell_type": "code",
   "execution_count": 55,
   "metadata": {},
   "outputs": [],
   "source": [
    " #Function to return wav files\n",
    "def GetSeperateSignals( wavfile1, wavfile2, sampling_rate):\n",
    "    #load first speaker\n",
    "    speech_1, _ = librosa.core.load(wavfile1, sr=sampling_rate)\n",
    "    #load second speaker\n",
    "    speech_2, _ = librosa.core.load(wavfile2, sr=sampling_rate)\n",
    "    \n",
    "    # mix 2 speech signals together\n",
    "    # Reduce length of signals so that they are a multiple of 128\n",
    "    length = min(len(speech_1), len(speech_2))\n",
    "    #length = int(math.floor(length / 128.0)) * 128\n",
    "    speech_1 = speech_1[:length]\n",
    "    speech_2 = speech_2[:length]\n",
    "    speech_mix = speech_1 + speech_2\n",
    "    \n",
    "    return speech_1, speech_2, speech_mix, (length / sampling_rate)"
   ]
  },
  {
   "cell_type": "code",
   "execution_count": 49,
   "metadata": {},
   "outputs": [],
   "source": [
    "from scipy import signal\n",
    "def stft(wavfile, sampling_rate, frame_size, overlapFac=0.75):\n",
    "        \"\"\" short time fourier transform of audio signal \"\"\"\n",
    "        \n",
    "        #Set window size\n",
    "        overlap = int(overlapFac*frame_size)\n",
    "        #Get stft\n",
    "        f1, t1, Zsamples1 = signal.stft(wavfile, fs=sampling_rate, window='hann', nperseg = frame_size, return_onesided=True, noverlap=overlap, axis=1)\n",
    "    \n",
    "        return Zsamples1, f1, t1"
   ]
  },
  {
   "cell_type": "code",
   "execution_count": 50,
   "metadata": {},
   "outputs": [],
   "source": [
    "def istft(spectrogram, sampling_rate, frame_size, overlapFac=0.75):\n",
    "        \"\"\" short time fourier transform of audio signal \"\"\"\n",
    "        \n",
    "        #Set window size\n",
    "        overlap = int(overlapFac*frame_size)\n",
    "        #Get istft\n",
    "        t1, samplesrec = signal.istft(spectrogram, fs=sampling_rate, window='hann', nperseg = frame_size, input_onesided = True, noverlap=overlap, time_axis=-2, freq_axis=-1)\n",
    "\n",
    "        return samplesrec"
   ]
  },
  {
   "cell_type": "code",
   "execution_count": 42,
   "metadata": {},
   "outputs": [],
   "source": [
    "mean = -3.7185277644387273\n",
    "std = 0.7873899776985277"
   ]
  },
  {
   "cell_type": "code",
   "execution_count": 56,
   "metadata": {},
   "outputs": [],
   "source": [
    "def CreateTrainingDataSpectrogram(wavfile1, wavfile2, sampling_rate, frame_size, maxFFTSize, vad_threshold):\n",
    "        \n",
    "        #Get separate and mixed speech signals\n",
    "        speech_1, speech_2, speech_mix, signal_length = GetSeperateSignals( wavfile1, wavfile2,sampling_rate= sampling_rate)\n",
    "        \n",
    "        # compute stft spectrum for 1st speaker\n",
    "        speech_1_spec, _, _ = stft(speech_1, sampling_rate, frame_size)\n",
    "        speech_1_mag = np.abs(speech_1_spec[:, :maxFFTSize])\n",
    "        speech_1_phase_raw = np.angle(speech_1_spec[:, :maxFFTSize])\n",
    "        speech_1_phase_std = speech_1_phase_raw / np.pi\n",
    "        \n",
    "        # compute stft spectrum for 2nd speaker\n",
    "        speech_2_spec, _, _ = stft(speech_2, sampling_rate, frame_size)\n",
    "        speech_2_mag = np.abs(speech_2_spec[:, :maxFFTSize])\n",
    "        speech_2_phase_raw = np.angle(speech_2_spec[:, :maxFFTSize])\n",
    "        speech_2_phase_std = speech_2_phase_raw / np.pi\n",
    "        \n",
    "        # compute log stft spectrum for mixture of both speaker\n",
    "        speech_mix_spec0, f1, t1 = stft(speech_mix, sampling_rate, frame_size)\n",
    "        speech_mix_mag = np.abs(speech_mix_spec0[:, :maxFFTSize])\n",
    "        speech_mix_phase_raw = np.angle(speech_mix_spec0[:, :maxFFTSize])\n",
    "        # Get additional frequency spectrum for mixture signal\n",
    "        speech_mix_mag_log = np.log10(speech_mix_mag)\n",
    "        # Standardise spectrogram by minus mean and divide by standard deviation\n",
    "        # Global mean and standard deviation are worked out in Get-mean-and-std.py script\n",
    "        speech_mix_mag_std = (speech_mix_mag_log - mean) / std\n",
    "        speech_mix_phase_std = speech_mix_phase_raw / np.pi\n",
    "        #Convert speech_mix_spec to float16 to save on memory\n",
    "        speech_mix_mag_log = speech_mix_mag_log.astype('float16')\n",
    "        speech_mix_mag_std = speech_mix_mag_std.astype('float16')\n",
    "               \n",
    "        # VAD is voice activity detection. If magnitude is greater than threshold then a voice is active.\n",
    "        speech_VAD = (speech_mix_mag.sum(axis=1) > 0.005).astype(int)\n",
    "        #Convert VAD to boolean\n",
    "        speech_VAD = speech_VAD.astype(bool)\n",
    "        \n",
    "        # Create Ideal Binary Mask\n",
    "        # 2 IBMs are created. One for the first signal and one for the second signal\n",
    "        IBM = np.array([speech_1_mag > speech_2_mag, speech_1_mag < speech_2_mag]).astype(bool)\n",
    "        #Transpose IBM around so that it is 2 columns of n frequency points for each time point\n",
    "        IBM = np.transpose(IBM, [1, 2, 0])\n",
    "        \n",
    "        # Create Ideal Ratio Mask\n",
    "        # 2 IRMs are created. One for the first signal and one for the second signal\n",
    "        SNR1 = np.log10(np.divide(speech_1_mag, speech_2_mag))\n",
    "        SNR2 = np.log10(np.divide(speech_2_mag, speech_1_mag))\n",
    "        IRM = np.array([(np.power(10, SNR1) / (np.power(10, SNR1) + 1)), (np.power(10, SNR2) / (np.power(10, SNR2) + 1))]).astype('float16')\n",
    "        #Transpose IBM around so that it is 2 columns of n frequency points for each time point\n",
    "        IRM = np.transpose(IRM, [1, 2, 0])\n",
    "        \n",
    "        #sample_dict = {'SampleStd': speech_mix_mag_std, 'SampleLog': speech_mix_mag_log, 'VAD': speech_VAD, 'IBM': IBM1, 'IRM': IRM1,'Wavfiles': [wavfile1, wavfile2], 'MixtureSignal': speech_mix, 'ZmixedSeries': speech_mix_spec0, 'fmixed': f1, 'tmixed': t1, 'Signal1': speech_1, 'Signal2': speech_2, 'Spectrogram1': speech_1_mag, 'Spectrogram2':speech_2_mag }\n",
    "        sample_dict = {'SampleStd': speech_mix_mag_std, 'SampleLog': speech_mix_mag_log, 'SamplePhaseRaw': speech_mix_phase_raw, \\\n",
    "                       'SamplePhaseStd':speech_mix_phase_std, 'SampleMagRaw': speech_mix_mag, 'VAD': speech_VAD, 'IBM': IBM, 'IRM': IRM, \\\n",
    "                       'Wavfiles': [wavfile1, wavfile2], 'MixtureSignal': speech_mix, 'ZmixedSeries': speech_mix_spec0, \\\n",
    "                       'fmixed': f1, 'tmixed': t1, 'Signal1': speech_1, 'Signal2': speech_2, 'Speech1Magnitude': speech_1_mag, \\\n",
    "                       'Speech2Magnitude': speech_2_mag, 'Speech1PhaseRaw': speech_1_phase_raw, 'Speech2PhaseRaw': speech_2_phase_raw, \\\n",
    "                       'Speech1PhaseStd': speech_1_phase_std, 'Speech2PhaseStd': speech_2_phase_std, \\\n",
    "                       'SignalLength': signal_length}\n",
    "\n",
    "\n",
    "        return sample_dict"
   ]
  },
  {
   "cell_type": "code",
   "execution_count": 57,
   "metadata": {},
   "outputs": [],
   "source": [
    "# from datagenerator_scipy import DataGenerator\n",
    "#Get spectrogram of two wav files combined\n",
    "testdata = CreateTrainingDataSpectrogram(wavfile1= wavfile1, wavfile2= wavfile2, sampling_rate = sampling_rate,frame_size= frame_size,maxFFTSize= maxFFTSize,vad_threshold= vad_threshold)"
   ]
  },
  {
   "cell_type": "code",
   "execution_count": 58,
   "metadata": {},
   "outputs": [],
   "source": [
    "ts_features = testdata['SampleStd'][testdata['VAD']]"
   ]
  },
  {
   "cell_type": "code",
   "execution_count": 59,
   "metadata": {},
   "outputs": [],
   "source": [
    "model_checkpoint = \"./model.chkpt\""
   ]
  },
  {
   "cell_type": "code",
   "execution_count": 63,
   "metadata": {},
   "outputs": [
    {
     "name": "stdout",
     "output_type": "stream",
     "text": [
      "INFO:tensorflow:Restoring parameters from ./model.chkpt\n"
     ]
    }
   ],
   "source": [
    "saver = tf.compat.v1.train.Saver()\n",
    "with tf.compat.v1.Session() as sess:\n",
    "        \n",
    "    #restore session from checkpoint\n",
    "    saver.restore(sess, model_checkpoint)\n",
    "    \n",
    "    # get inferred ibm using trained model\n",
    "    ibm_batch = sess.run([a], feed_dict={X: ts_features})"
   ]
  },
  {
   "cell_type": "code",
   "execution_count": 64,
   "metadata": {},
   "outputs": [],
   "source": [
    "ibm_array = np.concatenate([item for item in ibm_batch], axis=0)"
   ]
  },
  {
   "cell_type": "code",
   "execution_count": 65,
   "metadata": {},
   "outputs": [
    {
     "data": {
      "text/plain": [
       "array([[0.37852418, 0.2675526 , 0.09095582, ..., 0.4640725 , 0.46506384,\n",
       "        0.48057547],\n",
       "       [0.41402844, 0.28575426, 0.09716812, ..., 0.40419737, 0.42095265,\n",
       "        0.41951287],\n",
       "       [0.46121138, 0.32791767, 0.10984126, ..., 0.3518383 , 0.3711797 ,\n",
       "        0.37377173],\n",
       "       ...,\n",
       "       [0.39472586, 0.3543957 , 0.19226518, ..., 0.52177763, 0.49971104,\n",
       "        0.54118085],\n",
       "       [0.37747648, 0.35017866, 0.24553397, ..., 0.5505    , 0.5220851 ,\n",
       "        0.5400195 ],\n",
       "       [0.41617846, 0.341236  , 0.15897474, ..., 0.59261554, 0.5647098 ,\n",
       "        0.55891997]], dtype=float32)"
      ]
     },
     "execution_count": 65,
     "metadata": {},
     "output_type": "execute_result"
    }
   ],
   "source": [
    "ibm_array"
   ]
  },
  {
   "cell_type": "code",
   "execution_count": 66,
   "metadata": {},
   "outputs": [],
   "source": [
    "#Round each point to 0 or 1\n",
    "ibm_array = (np.round(ibm_array, 0)).astype(int)\n",
    "\n",
    "#Add extra points to IBM where VAD is 0\n",
    "vad = np.where(testdata['VAD'] == False)[0]\n",
    "vad1 = np.subtract(vad, np.asarray(range(vad.shape[0])))\n",
    "ibm = np.insert(ibm_array, vad1, 0, axis=0)"
   ]
  },
  {
   "cell_type": "code",
   "execution_count": 84,
   "metadata": {},
   "outputs": [
    {
     "data": {
      "text/plain": [
       "array([[0, 0, 0, ..., 0, 0, 0],\n",
       "       [0, 0, 0, ..., 0, 0, 0],\n",
       "       [0, 0, 0, ..., 0, 0, 0],\n",
       "       ...,\n",
       "       [0, 0, 0, ..., 1, 0, 1],\n",
       "       [0, 0, 0, ..., 1, 1, 1],\n",
       "       [0, 0, 0, ..., 1, 1, 1]])"
      ]
     },
     "execution_count": 84,
     "metadata": {},
     "output_type": "execute_result"
    }
   ],
   "source": [
    "ibm_array"
   ]
  },
  {
   "cell_type": "code",
   "execution_count": 85,
   "metadata": {},
   "outputs": [
    {
     "data": {
      "text/plain": [
       "array([[0, 0, 0, ..., 0, 0, 0],\n",
       "       [0, 0, 0, ..., 0, 0, 0],\n",
       "       [0, 0, 0, ..., 0, 0, 0],\n",
       "       ...,\n",
       "       [0, 0, 0, ..., 1, 1, 1],\n",
       "       [0, 0, 0, ..., 0, 0, 0],\n",
       "       [0, 0, 0, ..., 0, 0, 0]])"
      ]
     },
     "execution_count": 85,
     "metadata": {},
     "output_type": "execute_result"
    }
   ],
   "source": [
    "ibm"
   ]
  },
  {
   "cell_type": "code",
   "execution_count": 67,
   "metadata": {},
   "outputs": [
    {
     "data": {
      "image/png": "[encoded data removed]",
      "text/plain": [
       "<Figure size 432x288 with 1 Axes>"
      ]
     },
     "metadata": {
      "needs_background": "light"
     },
     "output_type": "display_data"
    }
   ],
   "source": [
    "#%% Show mask\n",
    "\n",
    "fig = plt.figure() \n",
    "plt.imshow(ibm.transpose(), cmap='Greys', interpolation='none')\n",
    "\n",
    "plt.tight_layout()\n",
    "fig.savefig(\"feedforwardibm2.png\", bbox_inches=\"tight\")\n",
    "plt.show()\n",
    "plt.close(fig)"
   ]
  },
  {
   "cell_type": "code",
   "execution_count": 86,
   "metadata": {},
   "outputs": [],
   "source": [
    "#%% apply ibm to signal and convert back into time domain\n",
    "\n",
    "# Convert spectrogram from log to normal\n",
    "split_spectrogram = np.power(10, (ts_features * std) + mean)"
   ]
  },
  {
   "cell_type": "code",
   "execution_count": 73,
   "metadata": {},
   "outputs": [],
   "source": [
    "# Add extra points to IBM whre VAD is 0\n",
    "vad = np.where(testdata['VAD'] == False)[0]\n",
    "vad1 = np.subtract(vad, np.asarray(range(vad.shape[0])))\n",
    "split_spectrogram = np.insert(split_spectrogram, vad1, 0, axis=0)"
   ]
  },
  {
   "cell_type": "code",
   "execution_count": 74,
   "metadata": {},
   "outputs": [],
   "source": [
    "# Apply ibm to spectrogram\n",
    "split_spectrogram1 = np.multiply(split_spectrogram, ibm)"
   ]
  },
  {
   "cell_type": "code",
   "execution_count": 76,
   "metadata": {},
   "outputs": [],
   "source": [
    "# Get recovered mixture from istft routine\n",
    "wav_recovered =istft(split_spectrogram1, sampling_rate, frame_size)"
   ]
  },
  {
   "cell_type": "code",
   "execution_count": 80,
   "metadata": {},
   "outputs": [],
   "source": [
    "def stft_from_mag_and_phase( radii, angle_radians):\n",
    "        return radii * np.exp(1j*angle_radians)  "
   ]
  },
  {
   "cell_type": "code",
   "execution_count": 81,
   "metadata": {},
   "outputs": [],
   "source": [
    "# Get phase from testing routine\n",
    "phase = testdata['SamplePhaseRaw']\n",
    "   \n",
    "# Get recovered mixture from istft routine with phase \n",
    "phase = np.multiply(phase, ibm)\n",
    "split_spectrogram2 = stft_from_mag_and_phase(split_spectrogram1, phase)\n",
    "wav_recovered_with_phase = istft(split_spectrogram2, sampling_rate, frame_size)  \n",
    "\n",
    "del split_spectrogram, split_spectrogram1, vad, vad1, phase"
   ]
  },
  {
   "cell_type": "code",
   "execution_count": 83,
   "metadata": {},
   "outputs": [
    {
     "name": "stdout",
     "output_type": "stream",
     "text": [
      "file saved\n"
     ]
    }
   ],
   "source": [
    "import soundfile as sf\n",
    "sf.write('separated_signal.wav', wav_recovered, sampling_rate)\n",
    "\n",
    "print(\"file saved\")\n"
   ]
  }
 ],
 "metadata": {
  "interpreter": {
   "hash": "60c76684d61d2922394e92edb02c134fb0e6b87edda5739926d2d1807e3afdb8"
  },
  "kernelspec": {
   "display_name": "Python 3.9.7 64-bit",
   "language": "python",
   "name": "python3"
  },
  "language_info": {
   "codemirror_mode": {
    "name": "ipython",
    "version": 3
   },
   "file_extension": ".py",
   "mimetype": "text/x-python",
   "name": "python",
   "nbconvert_exporter": "python",
   "pygments_lexer": "ipython3",
   "version": "3.9.7"
  },
  "orig_nbformat": 4
 },
 "nbformat": 4,
 "nbformat_minor": 2
}
